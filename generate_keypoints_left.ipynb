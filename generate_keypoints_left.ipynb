{
 "cells": [
  {
   "cell_type": "code",
   "execution_count": 1,
   "metadata": {},
   "outputs": [],
   "source": [
    "import mediapipe as mp\n",
    "mp_hands = mp.solutions.hands\n",
    "mp_drawing = mp.solutions.drawing_utils\n",
    "mp_drawing_styles = mp.solutions.drawing_styles\n",
    "import os\n",
    "import cv2\n",
    "import math\n",
    "import numpy as np\n",
    "import copy\n",
    "import itertools\n",
    "import csv\n",
    "from collections import Counter\n",
    "from collections import deque\n",
    "from utils import CvFpsCalc\n",
    "from matplotlib import pyplot as plt"
   ]
  },
  {
   "cell_type": "code",
   "execution_count": 2,
   "metadata": {},
   "outputs": [],
   "source": [
    "DESIRED_HEIGHT = 480\n",
    "DESIRED_WIDTH = 480\n",
    "\n",
    "\n",
    "def resize_and_show(image):\n",
    "  h, w = image.shape[:2]\n",
    "  if h < w:\n",
    "    img = cv2.resize(image, (DESIRED_WIDTH, math.floor(h/(w/DESIRED_WIDTH))))\n",
    "  else:\n",
    "    img = cv2.resize(image, (math.floor(w/(h/DESIRED_HEIGHT)), DESIRED_HEIGHT))\n",
    "  return img\n",
    "\n",
    "def load_images_from_folder(folder):\n",
    "    images = []\n",
    "    \n",
    "    for filename in os.listdir(folder):\n",
    "        #print(filename)\n",
    "        os.chdir(folder)\n",
    "        img = cv2.imread(filename)\n",
    "        #print(img)\n",
    "        if img is not None:\n",
    "            img=resize_and_show(img)\n",
    "            images.append(img)\n",
    "    return images"
   ]
  },
  {
   "cell_type": "code",
   "execution_count": 3,
   "metadata": {},
   "outputs": [],
   "source": [
    "def calc_landmark_list(image, landmarks):\n",
    "    image_width, image_height = image.shape[1], image.shape[0]\n",
    "\n",
    "    landmark_point = []\n",
    "\n",
    "    # Keypoint\n",
    "    for _, landmark in enumerate(landmarks.landmark):\n",
    "        landmark_x = min(int(landmark.x * image_width), image_width - 1)\n",
    "        landmark_y = min(int(landmark.y * image_height), image_height - 1)\n",
    "        # landmark_z = landmark.z\n",
    "\n",
    "        landmark_point.append([landmark_x, landmark_y])\n",
    "\n",
    "    return landmark_point"
   ]
  },
  {
   "cell_type": "code",
   "execution_count": 4,
   "metadata": {},
   "outputs": [],
   "source": [
    "def pre_process_landmark(landmark_list):\n",
    "    temp_landmark_list = copy.deepcopy(landmark_list)\n",
    "\n",
    "    # Convert to relative coordinates\n",
    "    base_x, base_y = 0, 0\n",
    "    for index, landmark_point in enumerate(temp_landmark_list):\n",
    "        if index == 0:\n",
    "            base_x, base_y = landmark_point[0], landmark_point[1]\n",
    "\n",
    "        temp_landmark_list[index][0] = temp_landmark_list[index][0] - base_x\n",
    "        temp_landmark_list[index][1] = temp_landmark_list[index][1] - base_y\n",
    "\n",
    "    # Convert to a one-dimensional list\n",
    "    temp_landmark_list = list(\n",
    "        itertools.chain.from_iterable(temp_landmark_list))\n",
    "\n",
    "    # Normalization\n",
    "    max_value = max(list(map(abs, temp_landmark_list)))\n",
    "    def normalize_(n):\n",
    "        return n / max_value\n",
    "\n",
    "    temp_landmark_list = list(map(normalize_, temp_landmark_list))\n",
    "\n",
    "    return temp_landmark_list"
   ]
  },
  {
   "cell_type": "code",
   "execution_count": 5,
   "metadata": {},
   "outputs": [],
   "source": [
    "def logging_csv(number, mode, landmark_list, point_history_list):\n",
    "# if mode == 0:\n",
    "#     pass\n",
    "# if mode == 1 and (0 <= number <= 9):\n",
    "    csv_path = 'model/keypoint_classifier/keypoint_key_letters_left_augumented.csv'\n",
    "    #csv_path = 'model/keypoint_classifier/keypoint_withoutQ&X.csv'\n",
    "\n",
    "\n",
    "    with open(csv_path, 'a', newline=\"\") as f:\n",
    "        writer = csv.writer(f)\n",
    "        writer.writerow([number, *landmark_list])\n",
    "\n",
    "    return"
   ]
  },
  {
   "cell_type": "code",
   "execution_count": 6,
   "metadata": {},
   "outputs": [],
   "source": [
    "#Land mark collection\n",
    "root_dir=\"C:\\\\Users\\\\User\\\\Desktop\\\\Sign_language\\\\PolishAlphabet_SignLanguage_Detection\\\\key_letters_aug_left\"\n",
    "letters=os.listdir(root_dir)\n",
    "letters.sort()\n",
    "label=-1\n",
    "for letter in letters:\n",
    "    label=label+1\n",
    "    input_dir =os.path.join(root_dir,letter)\n",
    "    images=load_images_from_folder(input_dir)\n",
    "    os.chdir(\"C:\\\\Users\\\\User\\\\Desktop\\\\Sign_language\\\\PolishAlphabet_SignLanguage_Detection\")\n",
    "    first = True\n",
    "    for image in images:\n",
    "        with mp_hands.Hands(\n",
    "            static_image_mode=True,\n",
    "            max_num_hands=2,\n",
    "            min_detection_confidence=0.7) as hands:\n",
    "        \n",
    "            results = hands.process(cv2.flip(cv2.cvtColor(image, cv2.COLOR_BGR2RGB), 1))\n",
    "\n",
    "            tmp = \"No\"\n",
    "            index = 0\n",
    "\n",
    "            ###############################\n",
    "            # LEFT HAND DETECTION\n",
    "            if (results.multi_hand_landmarks is not None):\n",
    "                for idx,hand in enumerate(results.multi_handedness):\n",
    "                    #print(hand.classification[0].label)\n",
    "                    if(str(hand.classification[0].label)==\"Left\"):\n",
    "                        # print(hand.classification[0].label)\n",
    "                        # print(idx)\n",
    "                        index = idx\n",
    "                        break\n",
    "            ###############################\n",
    "            # print(index)\n",
    "\n",
    "            if (results.multi_hand_landmarks is not None):\n",
    "                # Landmark calculation\n",
    "                landmark_list = calc_landmark_list(image, results.multi_hand_landmarks[index])\n",
    "\n",
    "\n",
    "                # Conversion to relative coordinates / normalized coordinates\n",
    "                pre_processed_landmark_list = pre_process_landmark(\n",
    "                        landmark_list)\n",
    "\n",
    "                # print(pre_processed_landmark_list)\n",
    "                # Write to the dataset file\n",
    "                logging_csv(label, 1, pre_processed_landmark_list,[])                "
   ]
  },
  {
   "cell_type": "code",
   "execution_count": 67,
   "metadata": {},
   "outputs": [
    {
     "data": {
      "text/plain": [
       "26"
      ]
     },
     "execution_count": 67,
     "metadata": {},
     "output_type": "execute_result"
    }
   ],
   "source": [
    "len(letters)"
   ]
  }
 ],
 "metadata": {
  "kernelspec": {
   "display_name": "Python 3",
   "language": "python",
   "name": "python3"
  },
  "language_info": {
   "codemirror_mode": {
    "name": "ipython",
    "version": 3
   },
   "file_extension": ".py",
   "mimetype": "text/x-python",
   "name": "python",
   "nbconvert_exporter": "python",
   "pygments_lexer": "ipython3",
   "version": "3.11.0 (main, Oct 24 2022, 18:26:48) [MSC v.1933 64 bit (AMD64)]"
  },
  "orig_nbformat": 4,
  "vscode": {
   "interpreter": {
    "hash": "ebfc0a8d552866b0d59eba665220a57de3bc06f3ac643b8bef38dd8f66781fdd"
   }
  }
 },
 "nbformat": 4,
 "nbformat_minor": 2
}
