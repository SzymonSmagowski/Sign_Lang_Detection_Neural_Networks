{
 "cells": [
  {
   "cell_type": "code",
   "execution_count": 1,
   "metadata": {},
   "outputs": [
    {
     "name": "stdout",
     "output_type": "stream",
     "text": [
      "Moviepy - Building video C:\\Users\\User\\Desktop\\horizontal\\dest\\6.mp4.\n",
      "MoviePy - Writing audio in 6TEMP_MPY_wvf_snd.mp3\n"
     ]
    },
    {
     "name": "stderr",
     "output_type": "stream",
     "text": [
      "                                                       \r"
     ]
    },
    {
     "name": "stdout",
     "output_type": "stream",
     "text": [
      "MoviePy - Done.\n",
      "Moviepy - Writing video C:\\Users\\User\\Desktop\\horizontal\\dest\\6.mp4\n",
      "\n"
     ]
    },
    {
     "name": "stderr",
     "output_type": "stream",
     "text": [
      "                                                            \r"
     ]
    },
    {
     "name": "stdout",
     "output_type": "stream",
     "text": [
      "Moviepy - Done !\n",
      "Moviepy - video ready C:\\Users\\User\\Desktop\\horizontal\\dest\\6.mp4\n",
      "Moviepy - Building video C:\\Users\\User\\Desktop\\horizontal\\dest\\6Chs.mp4.\n",
      "MoviePy - Writing audio in 6ChsTEMP_MPY_wvf_snd.mp3\n"
     ]
    },
    {
     "name": "stderr",
     "output_type": "stream",
     "text": [
      "                                                       \r"
     ]
    },
    {
     "name": "stdout",
     "output_type": "stream",
     "text": [
      "MoviePy - Done.\n",
      "Moviepy - Writing video C:\\Users\\User\\Desktop\\horizontal\\dest\\6Chs.mp4\n",
      "\n"
     ]
    },
    {
     "name": "stderr",
     "output_type": "stream",
     "text": [
      "                                                            \r"
     ]
    },
    {
     "name": "stdout",
     "output_type": "stream",
     "text": [
      "Moviepy - Done !\n",
      "Moviepy - video ready C:\\Users\\User\\Desktop\\horizontal\\dest\\6Chs.mp4\n",
      "Moviepy - Building video C:\\Users\\User\\Desktop\\horizontal\\dest\\6Czs.mp4.\n",
      "MoviePy - Writing audio in 6CzsTEMP_MPY_wvf_snd.mp3\n"
     ]
    },
    {
     "name": "stderr",
     "output_type": "stream",
     "text": [
      "                                                       \r"
     ]
    },
    {
     "name": "stdout",
     "output_type": "stream",
     "text": [
      "MoviePy - Done.\n",
      "Moviepy - Writing video C:\\Users\\User\\Desktop\\horizontal\\dest\\6Czs.mp4\n",
      "\n"
     ]
    },
    {
     "name": "stderr",
     "output_type": "stream",
     "text": [
      "                                                            \r"
     ]
    },
    {
     "name": "stdout",
     "output_type": "stream",
     "text": [
      "Moviepy - Done !\n",
      "Moviepy - video ready C:\\Users\\User\\Desktop\\horizontal\\dest\\6Czs.mp4\n",
      "Moviepy - Building video C:\\Users\\User\\Desktop\\horizontal\\dest\\6f.mp4.\n",
      "MoviePy - Writing audio in 6fTEMP_MPY_wvf_snd.mp3\n"
     ]
    },
    {
     "name": "stderr",
     "output_type": "stream",
     "text": [
      "                                                       \r"
     ]
    },
    {
     "name": "stdout",
     "output_type": "stream",
     "text": [
      "MoviePy - Done.\n",
      "Moviepy - Writing video C:\\Users\\User\\Desktop\\horizontal\\dest\\6f.mp4\n",
      "\n"
     ]
    },
    {
     "name": "stderr",
     "output_type": "stream",
     "text": [
      "                                                            \r"
     ]
    },
    {
     "name": "stdout",
     "output_type": "stream",
     "text": [
      "Moviepy - Done !\n",
      "Moviepy - video ready C:\\Users\\User\\Desktop\\horizontal\\dest\\6f.mp4\n",
      "Moviepy - Building video C:\\Users\\User\\Desktop\\horizontal\\dest\\6g.mp4.\n",
      "MoviePy - Writing audio in 6gTEMP_MPY_wvf_snd.mp3\n"
     ]
    },
    {
     "name": "stderr",
     "output_type": "stream",
     "text": [
      "                                                       \r"
     ]
    },
    {
     "name": "stdout",
     "output_type": "stream",
     "text": [
      "MoviePy - Done.\n",
      "Moviepy - Writing video C:\\Users\\User\\Desktop\\horizontal\\dest\\6g.mp4\n",
      "\n"
     ]
    },
    {
     "name": "stderr",
     "output_type": "stream",
     "text": [
      "                                                            \r"
     ]
    },
    {
     "name": "stdout",
     "output_type": "stream",
     "text": [
      "Moviepy - Done !\n",
      "Moviepy - video ready C:\\Users\\User\\Desktop\\horizontal\\dest\\6g.mp4\n",
      "Moviepy - Building video C:\\Users\\User\\Desktop\\horizontal\\dest\\6h.mp4.\n",
      "MoviePy - Writing audio in 6hTEMP_MPY_wvf_snd.mp3\n"
     ]
    },
    {
     "name": "stderr",
     "output_type": "stream",
     "text": [
      "                                                       \r"
     ]
    },
    {
     "name": "stdout",
     "output_type": "stream",
     "text": [
      "MoviePy - Done.\n",
      "Moviepy - Writing video C:\\Users\\User\\Desktop\\horizontal\\dest\\6h.mp4\n",
      "\n"
     ]
    },
    {
     "name": "stderr",
     "output_type": "stream",
     "text": [
      "                                                            \r"
     ]
    },
    {
     "name": "stdout",
     "output_type": "stream",
     "text": [
      "Moviepy - Done !\n",
      "Moviepy - video ready C:\\Users\\User\\Desktop\\horizontal\\dest\\6h.mp4\n",
      "Moviepy - Building video C:\\Users\\User\\Desktop\\horizontal\\dest\\6J.mp4.\n",
      "MoviePy - Writing audio in 6JTEMP_MPY_wvf_snd.mp3\n"
     ]
    },
    {
     "name": "stderr",
     "output_type": "stream",
     "text": [
      "                                                       \r"
     ]
    },
    {
     "name": "stdout",
     "output_type": "stream",
     "text": [
      "MoviePy - Done.\n",
      "Moviepy - Writing video C:\\Users\\User\\Desktop\\horizontal\\dest\\6J.mp4\n",
      "\n"
     ]
    },
    {
     "name": "stderr",
     "output_type": "stream",
     "text": [
      "                                                            \r"
     ]
    },
    {
     "name": "stdout",
     "output_type": "stream",
     "text": [
      "Moviepy - Done !\n",
      "Moviepy - video ready C:\\Users\\User\\Desktop\\horizontal\\dest\\6J.mp4\n",
      "Moviepy - Building video C:\\Users\\User\\Desktop\\horizontal\\dest\\6k.mp4.\n",
      "MoviePy - Writing audio in 6kTEMP_MPY_wvf_snd.mp3\n"
     ]
    },
    {
     "name": "stderr",
     "output_type": "stream",
     "text": [
      "                                                       \r"
     ]
    },
    {
     "name": "stdout",
     "output_type": "stream",
     "text": [
      "MoviePy - Done.\n",
      "Moviepy - Writing video C:\\Users\\User\\Desktop\\horizontal\\dest\\6k.mp4\n",
      "\n"
     ]
    },
    {
     "name": "stderr",
     "output_type": "stream",
     "text": [
      "                                                            \r"
     ]
    },
    {
     "name": "stdout",
     "output_type": "stream",
     "text": [
      "Moviepy - Done !\n",
      "Moviepy - video ready C:\\Users\\User\\Desktop\\horizontal\\dest\\6k.mp4\n",
      "Moviepy - Building video C:\\Users\\User\\Desktop\\horizontal\\dest\\6p.mp4.\n",
      "MoviePy - Writing audio in 6pTEMP_MPY_wvf_snd.mp3\n"
     ]
    },
    {
     "name": "stderr",
     "output_type": "stream",
     "text": [
      "                                                      \r"
     ]
    },
    {
     "name": "stdout",
     "output_type": "stream",
     "text": [
      "MoviePy - Done.\n",
      "Moviepy - Writing video C:\\Users\\User\\Desktop\\horizontal\\dest\\6p.mp4\n",
      "\n"
     ]
    },
    {
     "name": "stderr",
     "output_type": "stream",
     "text": [
      "                                                           \r"
     ]
    },
    {
     "name": "stdout",
     "output_type": "stream",
     "text": [
      "Moviepy - Done !\n",
      "Moviepy - video ready C:\\Users\\User\\Desktop\\horizontal\\dest\\6p.mp4\n",
      "Moviepy - Building video C:\\Users\\User\\Desktop\\horizontal\\dest\\6rz.mp4.\n",
      "MoviePy - Writing audio in 6rzTEMP_MPY_wvf_snd.mp3\n"
     ]
    },
    {
     "name": "stderr",
     "output_type": "stream",
     "text": [
      "                                                       \r"
     ]
    },
    {
     "name": "stdout",
     "output_type": "stream",
     "text": [
      "MoviePy - Done.\n",
      "Moviepy - Writing video C:\\Users\\User\\Desktop\\horizontal\\dest\\6rz.mp4\n",
      "\n"
     ]
    },
    {
     "name": "stderr",
     "output_type": "stream",
     "text": [
      "                                                            \r"
     ]
    },
    {
     "name": "stdout",
     "output_type": "stream",
     "text": [
      "Moviepy - Done !\n",
      "Moviepy - video ready C:\\Users\\User\\Desktop\\horizontal\\dest\\6rz.mp4\n",
      "Moviepy - Building video C:\\Users\\User\\Desktop\\horizontal\\dest\\6sz.mp4.\n",
      "MoviePy - Writing audio in 6szTEMP_MPY_wvf_snd.mp3\n"
     ]
    },
    {
     "name": "stderr",
     "output_type": "stream",
     "text": [
      "                                                       \r"
     ]
    },
    {
     "name": "stdout",
     "output_type": "stream",
     "text": [
      "MoviePy - Done.\n",
      "Moviepy - Writing video C:\\Users\\User\\Desktop\\horizontal\\dest\\6sz.mp4\n",
      "\n"
     ]
    },
    {
     "name": "stderr",
     "output_type": "stream",
     "text": [
      "                                                            \r"
     ]
    },
    {
     "name": "stdout",
     "output_type": "stream",
     "text": [
      "Moviepy - Done !\n",
      "Moviepy - video ready C:\\Users\\User\\Desktop\\horizontal\\dest\\6sz.mp4\n",
      "Moviepy - Building video C:\\Users\\User\\Desktop\\horizontal\\dest\\6z.mp4.\n",
      "MoviePy - Writing audio in 6zTEMP_MPY_wvf_snd.mp3\n"
     ]
    },
    {
     "name": "stderr",
     "output_type": "stream",
     "text": [
      "                                                       \r"
     ]
    },
    {
     "name": "stdout",
     "output_type": "stream",
     "text": [
      "MoviePy - Done.\n",
      "Moviepy - Writing video C:\\Users\\User\\Desktop\\horizontal\\dest\\6z.mp4\n",
      "\n"
     ]
    },
    {
     "name": "stderr",
     "output_type": "stream",
     "text": [
      "                                                            \r"
     ]
    },
    {
     "name": "stdout",
     "output_type": "stream",
     "text": [
      "Moviepy - Done !\n",
      "Moviepy - video ready C:\\Users\\User\\Desktop\\horizontal\\dest\\6z.mp4\n",
      "Moviepy - Building video C:\\Users\\User\\Desktop\\horizontal\\dest\\6ó.mp4.\n",
      "MoviePy - Writing audio in 6óTEMP_MPY_wvf_snd.mp3\n"
     ]
    },
    {
     "name": "stderr",
     "output_type": "stream",
     "text": [
      "                                                       \r"
     ]
    },
    {
     "name": "stdout",
     "output_type": "stream",
     "text": [
      "MoviePy - Done.\n",
      "Moviepy - Writing video C:\\Users\\User\\Desktop\\horizontal\\dest\\6ó.mp4\n",
      "\n"
     ]
    },
    {
     "name": "stderr",
     "output_type": "stream",
     "text": [
      "                                                            \r"
     ]
    },
    {
     "name": "stdout",
     "output_type": "stream",
     "text": [
      "Moviepy - Done !\n",
      "Moviepy - video ready C:\\Users\\User\\Desktop\\horizontal\\dest\\6ó.mp4\n",
      "Moviepy - Building video C:\\Users\\User\\Desktop\\horizontal\\dest\\6Ąs.mp4.\n",
      "MoviePy - Writing audio in 6ĄsTEMP_MPY_wvf_snd.mp3\n"
     ]
    },
    {
     "name": "stderr",
     "output_type": "stream",
     "text": [
      "                                                       \r"
     ]
    },
    {
     "name": "stdout",
     "output_type": "stream",
     "text": [
      "MoviePy - Done.\n",
      "Moviepy - Writing video C:\\Users\\User\\Desktop\\horizontal\\dest\\6Ąs.mp4\n",
      "\n"
     ]
    },
    {
     "name": "stderr",
     "output_type": "stream",
     "text": [
      "                                                            \r"
     ]
    },
    {
     "name": "stdout",
     "output_type": "stream",
     "text": [
      "Moviepy - Done !\n",
      "Moviepy - video ready C:\\Users\\User\\Desktop\\horizontal\\dest\\6Ąs.mp4\n",
      "Moviepy - Building video C:\\Users\\User\\Desktop\\horizontal\\dest\\6Ćs.mp4.\n",
      "MoviePy - Writing audio in 6ĆsTEMP_MPY_wvf_snd.mp3\n"
     ]
    },
    {
     "name": "stderr",
     "output_type": "stream",
     "text": [
      "                                                       \r"
     ]
    },
    {
     "name": "stdout",
     "output_type": "stream",
     "text": [
      "MoviePy - Done.\n",
      "Moviepy - Writing video C:\\Users\\User\\Desktop\\horizontal\\dest\\6Ćs.mp4\n",
      "\n"
     ]
    },
    {
     "name": "stderr",
     "output_type": "stream",
     "text": [
      "                                                            \r"
     ]
    },
    {
     "name": "stdout",
     "output_type": "stream",
     "text": [
      "Moviepy - Done !\n",
      "Moviepy - video ready C:\\Users\\User\\Desktop\\horizontal\\dest\\6Ćs.mp4\n",
      "Moviepy - Building video C:\\Users\\User\\Desktop\\horizontal\\dest\\6ę.mp4.\n",
      "MoviePy - Writing audio in 6ęTEMP_MPY_wvf_snd.mp3\n"
     ]
    },
    {
     "name": "stderr",
     "output_type": "stream",
     "text": [
      "                                                       \r"
     ]
    },
    {
     "name": "stdout",
     "output_type": "stream",
     "text": [
      "MoviePy - Done.\n",
      "Moviepy - Writing video C:\\Users\\User\\Desktop\\horizontal\\dest\\6ę.mp4\n",
      "\n"
     ]
    },
    {
     "name": "stderr",
     "output_type": "stream",
     "text": [
      "                                                            \r"
     ]
    },
    {
     "name": "stdout",
     "output_type": "stream",
     "text": [
      "Moviepy - Done !\n",
      "Moviepy - video ready C:\\Users\\User\\Desktop\\horizontal\\dest\\6ę.mp4\n",
      "Moviepy - Building video C:\\Users\\User\\Desktop\\horizontal\\dest\\6ł.mp4.\n",
      "MoviePy - Writing audio in 6łTEMP_MPY_wvf_snd.mp3\n"
     ]
    },
    {
     "name": "stderr",
     "output_type": "stream",
     "text": [
      "                                                       \r"
     ]
    },
    {
     "name": "stdout",
     "output_type": "stream",
     "text": [
      "MoviePy - Done.\n",
      "Moviepy - Writing video C:\\Users\\User\\Desktop\\horizontal\\dest\\6ł.mp4\n",
      "\n"
     ]
    },
    {
     "name": "stderr",
     "output_type": "stream",
     "text": [
      "                                                            \r"
     ]
    },
    {
     "name": "stdout",
     "output_type": "stream",
     "text": [
      "Moviepy - Done !\n",
      "Moviepy - video ready C:\\Users\\User\\Desktop\\horizontal\\dest\\6ł.mp4\n",
      "Moviepy - Building video C:\\Users\\User\\Desktop\\horizontal\\dest\\6ń.mp4.\n",
      "MoviePy - Writing audio in 6ńTEMP_MPY_wvf_snd.mp3\n"
     ]
    },
    {
     "name": "stderr",
     "output_type": "stream",
     "text": [
      "                                                       \r"
     ]
    },
    {
     "name": "stdout",
     "output_type": "stream",
     "text": [
      "MoviePy - Done.\n",
      "Moviepy - Writing video C:\\Users\\User\\Desktop\\horizontal\\dest\\6ń.mp4\n",
      "\n"
     ]
    },
    {
     "name": "stderr",
     "output_type": "stream",
     "text": [
      "                                                            \r"
     ]
    },
    {
     "name": "stdout",
     "output_type": "stream",
     "text": [
      "Moviepy - Done !\n",
      "Moviepy - video ready C:\\Users\\User\\Desktop\\horizontal\\dest\\6ń.mp4\n",
      "Moviepy - Building video C:\\Users\\User\\Desktop\\horizontal\\dest\\6ś.mp4.\n",
      "MoviePy - Writing audio in 6śTEMP_MPY_wvf_snd.mp3\n"
     ]
    },
    {
     "name": "stderr",
     "output_type": "stream",
     "text": [
      "                                                       \r"
     ]
    },
    {
     "name": "stdout",
     "output_type": "stream",
     "text": [
      "MoviePy - Done.\n",
      "Moviepy - Writing video C:\\Users\\User\\Desktop\\horizontal\\dest\\6ś.mp4\n",
      "\n"
     ]
    },
    {
     "name": "stderr",
     "output_type": "stream",
     "text": [
      "                                                            \r"
     ]
    },
    {
     "name": "stdout",
     "output_type": "stream",
     "text": [
      "Moviepy - Done !\n",
      "Moviepy - video ready C:\\Users\\User\\Desktop\\horizontal\\dest\\6ś.mp4\n",
      "Moviepy - Building video C:\\Users\\User\\Desktop\\horizontal\\dest\\6ź.mp4.\n",
      "MoviePy - Writing audio in 6źTEMP_MPY_wvf_snd.mp3\n"
     ]
    },
    {
     "name": "stderr",
     "output_type": "stream",
     "text": [
      "                                                       \r"
     ]
    },
    {
     "name": "stdout",
     "output_type": "stream",
     "text": [
      "MoviePy - Done.\n",
      "Moviepy - Writing video C:\\Users\\User\\Desktop\\horizontal\\dest\\6ź.mp4\n",
      "\n"
     ]
    },
    {
     "name": "stderr",
     "output_type": "stream",
     "text": [
      "                                                            \r"
     ]
    },
    {
     "name": "stdout",
     "output_type": "stream",
     "text": [
      "Moviepy - Done !\n",
      "Moviepy - video ready C:\\Users\\User\\Desktop\\horizontal\\dest\\6ź.mp4\n",
      "Moviepy - Building video C:\\Users\\User\\Desktop\\horizontal\\dest\\6ż.mp4.\n",
      "MoviePy - Writing audio in 6żTEMP_MPY_wvf_snd.mp3\n"
     ]
    },
    {
     "name": "stderr",
     "output_type": "stream",
     "text": [
      "                                                       \r"
     ]
    },
    {
     "name": "stdout",
     "output_type": "stream",
     "text": [
      "MoviePy - Done.\n",
      "Moviepy - Writing video C:\\Users\\User\\Desktop\\horizontal\\dest\\6ż.mp4\n",
      "\n"
     ]
    },
    {
     "name": "stderr",
     "output_type": "stream",
     "text": [
      "                                                            \r"
     ]
    },
    {
     "name": "stdout",
     "output_type": "stream",
     "text": [
      "Moviepy - Done !\n",
      "Moviepy - video ready C:\\Users\\User\\Desktop\\horizontal\\dest\\6ż.mp4\n"
     ]
    }
   ],
   "source": [
    "import os\n",
    "from moviepy.editor import VideoFileClip, vfx\n",
    "\n",
    "directory = 'C:\\\\Users\\\\User\\\\Desktop\\\\horizontal\\\\source'\n",
    "target = 'C:\\\\Users\\\\User\\\\Desktop\\\\horizontal\\\\dest'\n",
    "# iterate over files in\n",
    "# that directory\n",
    "for filename in os.listdir(directory):\n",
    "    # checking if it is a file\n",
    "    tmp = os.path.join(directory, filename)\n",
    "    if os.path.isfile(tmp):\n",
    "        tmp2 = os.path.join(target, filename)\n",
    "        clip = VideoFileClip(tmp)\n",
    "        reversed_clip = clip.fx(vfx.mirror_x)\n",
    "        reversed_clip.write_videofile(tmp2)\n",
    "        # stream = ffmpeg.input(tmp)\n",
    "        # stream = ffmpeg.hflip(stream)\n",
    "        # stream = ffmpeg.output(stream, tmp2)\n",
    "        # ffmpeg.run(stream)"
   ]
  }
 ],
 "metadata": {
  "kernelspec": {
   "display_name": "Python 3",
   "language": "python",
   "name": "python3"
  },
  "language_info": {
   "codemirror_mode": {
    "name": "ipython",
    "version": 3
   },
   "file_extension": ".py",
   "mimetype": "text/x-python",
   "name": "python",
   "nbconvert_exporter": "python",
   "pygments_lexer": "ipython3",
   "version": "3.9.0 (tags/v3.9.0:9cf6752, Oct  5 2020, 15:34:40) [MSC v.1927 64 bit (AMD64)]"
  },
  "orig_nbformat": 4,
  "vscode": {
   "interpreter": {
    "hash": "cf92aa13fedf815d5c8dd192b8d835913fde3e8bc926b2a0ad6cc74ef2ba3ca2"
   }
  }
 },
 "nbformat": 4,
 "nbformat_minor": 2
}
