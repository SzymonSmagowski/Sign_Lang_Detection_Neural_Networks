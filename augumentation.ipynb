{
 "cells": [
  {
   "cell_type": "code",
   "execution_count": 27,
   "metadata": {},
   "outputs": [],
   "source": [
    "from keras.preprocessing.image import ImageDataGenerator\n",
    "from skimage import io\n",
    "\n",
    "# Construct an instance of the ImageDataGenerator class\n",
    "# Pass the augmentation parameters through the constructor. \n",
    "\n",
    "datagen = ImageDataGenerator( \n",
    "        width_shift_range=0,   #% shift\n",
    "        height_shift_range=0,\n",
    "        zoom_range=0.3,\n",
    "        horizontal_flip=False,\n",
    "        fill_mode='constant', cval=125)    #Also try nearest, constant, reflect, wrap"
   ]
  },
  {
   "cell_type": "code",
   "execution_count": 22,
   "metadata": {},
   "outputs": [],
   "source": [
    "####################################################################\n",
    "#Multiple images.\n",
    "#Manually read each image and create an array to be supplied to datagen via flow method\n",
    "dataset = []\n",
    "\n",
    "import numpy as np\n",
    "from skimage import io\n",
    "import os\n",
    "from PIL import Image\n",
    "\n",
    "image_directory = 'aug/'\n",
    "SIZE = 256\n",
    "dataset = []\n",
    "\n"
   ]
  },
  {
   "cell_type": "code",
   "execution_count": 28,
   "metadata": {},
   "outputs": [],
   "source": [
    "my_images = os.listdir(image_directory)\n",
    "for i, image_name in enumerate(my_images):\n",
    "        image = io.imread(image_directory + image_name)\n",
    "        image = Image.fromarray(image, 'RGB')\n",
    "        # image = image.resize((SIZE,SIZE))\n",
    "        dataset.append(np.array(image))\n",
    "\n",
    "x = np.array(dataset)"
   ]
  },
  {
   "cell_type": "code",
   "execution_count": 24,
   "metadata": {},
   "outputs": [
    {
     "name": "stdout",
     "output_type": "stream",
     "text": [
      "[[[[139 131 120]\n",
      "   [140 132 121]\n",
      "   [139 131 120]\n",
      "   ...\n",
      "   [164 158 149]\n",
      "   [163 159 149]\n",
      "   [163 159 149]]\n",
      "\n",
      "  [[139 131 120]\n",
      "   [139 131 120]\n",
      "   [140 132 121]\n",
      "   ...\n",
      "   [164 158 149]\n",
      "   [163 159 149]\n",
      "   [163 159 149]]\n",
      "\n",
      "  [[139 131 120]\n",
      "   [139 131 120]\n",
      "   [141 133 122]\n",
      "   ...\n",
      "   [164 158 149]\n",
      "   [163 159 149]\n",
      "   [163 159 149]]\n",
      "\n",
      "  ...\n",
      "\n",
      "  [[135 127 116]\n",
      "   [135 127 116]\n",
      "   [136 128 117]\n",
      "   ...\n",
      "   [154 146 135]\n",
      "   [155 147 136]\n",
      "   [156 148 137]]\n",
      "\n",
      "  [[136 126 114]\n",
      "   [136 126 114]\n",
      "   [137 127 117]\n",
      "   ...\n",
      "   [152 147 135]\n",
      "   [152 147 135]\n",
      "   [153 148 136]]\n",
      "\n",
      "  [[136 126 114]\n",
      "   [136 126 114]\n",
      "   [137 127 117]\n",
      "   ...\n",
      "   [151 146 134]\n",
      "   [151 146 134]\n",
      "   [151 146 134]]]]\n"
     ]
    }
   ],
   "source": [
    "print(x)"
   ]
  },
  {
   "cell_type": "code",
   "execution_count": 29,
   "metadata": {},
   "outputs": [],
   "source": [
    "i = 0\n",
    "for batch in datagen.flow(x, batch_size=16,  \n",
    "                          save_to_dir='after_augmentation', \n",
    "                          save_prefix='aug', \n",
    "                          save_format='png'):\n",
    "    i += 1\n",
    "    if i > 20:\n",
    "        break"
   ]
  },
  {
   "cell_type": "code",
   "execution_count": 25,
   "metadata": {},
   "outputs": [
    {
     "name": "stdout",
     "output_type": "stream",
     "text": [
      "Found 0 images belonging to 0 classes.\n"
     ]
    }
   ],
   "source": [
    "# #####################################################################\n",
    "# #Multiclass. Read dirctly from the folder structure using flow_from_directory\n",
    "# # We do not use it since it does do mirror images\n",
    "\n",
    "# i = 0\n",
    "# for batch in datagen.flow_from_directory(directory='aug/',\n",
    "#                                          #target_size=(256, 256),\n",
    "#                                          color_mode=\"rgb\",\n",
    "#                                          save_to_dir='after_augmentation/', \n",
    "#                                          save_prefix='aug', \n",
    "#                                          save_format='png'):\n",
    "#     i += 1\n",
    "#     if i > 15:\n",
    "#         break "
   ]
  }
 ],
 "metadata": {
  "kernelspec": {
   "display_name": "Python 3",
   "language": "python",
   "name": "python3"
  },
  "language_info": {
   "codemirror_mode": {
    "name": "ipython",
    "version": 3
   },
   "file_extension": ".py",
   "mimetype": "text/x-python",
   "name": "python",
   "nbconvert_exporter": "python",
   "pygments_lexer": "ipython3",
   "version": "3.9.0"
  },
  "orig_nbformat": 4,
  "vscode": {
   "interpreter": {
    "hash": "cf92aa13fedf815d5c8dd192b8d835913fde3e8bc926b2a0ad6cc74ef2ba3ca2"
   }
  }
 },
 "nbformat": 4,
 "nbformat_minor": 2
}
