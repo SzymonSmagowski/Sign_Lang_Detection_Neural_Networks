{
 "cells": [
  {
   "cell_type": "code",
   "execution_count": 1,
   "metadata": {},
   "outputs": [],
   "source": [
    "from keras.preprocessing.image import ImageDataGenerator\n",
    "from skimage import io\n",
    "\n",
    "# Construct an instance of the ImageDataGenerator class\n",
    "# Pass the augmentation parameters through the constructor. \n",
    "\n",
    "datagen = ImageDataGenerator( \n",
    "        width_shift_range=0,   #% shift\n",
    "        height_shift_range=0,\n",
    "        zoom_range=0.2,\n",
    "        horizontal_flip=False,\n",
    "        fill_mode='constant', cval=125)    #Also try nearest, constant, reflect, wrap"
   ]
  },
  {
   "cell_type": "code",
   "execution_count": 18,
   "metadata": {},
   "outputs": [],
   "source": [
    "import cv2\n",
    "import math\n",
    "DESIRED_WIDTH=480\n",
    "DESIRED_HEIGHT=480\n",
    "def resize_and_show(image):\n",
    "  h, w = image.shape[:2]\n",
    "  if h < w:\n",
    "    img = cv2.resize(image, (DESIRED_WIDTH, math.floor(h/(w/DESIRED_WIDTH))))\n",
    "  else:\n",
    "    img = cv2.resize(image, (math.floor(w/(h/DESIRED_HEIGHT)), DESIRED_HEIGHT))\n",
    "  return img"
   ]
  },
  {
   "cell_type": "code",
   "execution_count": 3,
   "metadata": {},
   "outputs": [],
   "source": [
    "####################################################################\n",
    "#Multiple images.\n",
    "#Manually read each image and create an array to be supplied to datagen via flow method\n",
    "dataset = []\n",
    "\n",
    "import numpy as np\n",
    "from skimage import io\n",
    "import os\n",
    "from PIL import Image\n",
    "\n",
    "image_directory = 'aug/'\n",
    "SIZE = 480\n",
    "dataset = []\n",
    "\n"
   ]
  },
  {
   "cell_type": "code",
   "execution_count": 87,
   "metadata": {},
   "outputs": [],
   "source": [
    "dataset = []\n",
    "my_images = os.listdir(image_directory)\n",
    "for i, image_name in enumerate(my_images):\n",
    "        image = io.imread(image_directory + image_name)\n",
    "        image = Image.fromarray(image, 'RGB')\n",
    "        image = image.resize((640,640))\n",
    "        dataset.append(np.array(image))\n",
    "\n",
    "x = np.array(dataset)"
   ]
  },
  {
   "cell_type": "code",
   "execution_count": 88,
   "metadata": {},
   "outputs": [],
   "source": [
    "i = 0\n",
    "for batch in datagen.flow(x, batch_size=16,  \n",
    "                          save_to_dir='after_augmentation', \n",
    "                          save_prefix='aug', \n",
    "                          save_format='png'):\n",
    "    i += 1\n",
    "    if i > 4:\n",
    "        break\n",
    "\n",
    "# dir = 'C:\\\\Users\\\\User\\\\Desktop\\\\Sign_language\\\\PolishAlphabet_SignLanguage_Detection\\\\aug'\n",
    "\n",
    "# for f in os.listdir(dir):\n",
    "#     os.remove(os.path.join(dir, f))"
   ]
  },
  {
   "cell_type": "code",
   "execution_count": 28,
   "metadata": {},
   "outputs": [
    {
     "data": {
      "text/plain": [
       "'C:\\\\Users\\\\User\\\\Desktop\\\\Sign_language\\\\PolishAlphabet_SignLanguage_Detection\\\\key_letters_aug\\\\A'"
      ]
     },
     "execution_count": 28,
     "metadata": {},
     "output_type": "execute_result"
    }
   ],
   "source": [
    "import shutil\n",
    "src_dir = 'C:\\\\Users\\\\User\\\\Desktop\\\\Sign_language\\\\PolishAlphabet_SignLanguage_Detection\\\\after_augmentation'\n",
    "\n",
    "# path to destination directory\n",
    "dest_dir = 'C:\\\\Users\\\\User\\\\Desktop\\\\Sign_language\\\\PolishAlphabet_SignLanguage_Detection\\\\key_letters_aug\\\\A'\n",
    "\n",
    "shutil.copytree(src_dir, dest_dir)"
   ]
  },
  {
   "cell_type": "code",
   "execution_count": 29,
   "metadata": {},
   "outputs": [],
   "source": [
    "dir = 'C:\\\\Users\\\\User\\\\Desktop\\\\Sign_language\\\\PolishAlphabet_SignLanguage_Detection\\\\after_augmentation'\n",
    "for f in os.listdir(dir):\n",
    "    os.remove(os.path.join(dir, f))\n",
    "\n",
    "dir = 'C:\\\\Users\\\\User\\\\Desktop\\\\Sign_language\\\\PolishAlphabet_SignLanguage_Detection\\\\aug'\n",
    "\n",
    "for f in os.listdir(dir):\n",
    "    os.remove(os.path.join(dir, f))"
   ]
  },
  {
   "cell_type": "code",
   "execution_count": null,
   "metadata": {},
   "outputs": [],
   "source": []
  },
  {
   "cell_type": "code",
   "execution_count": null,
   "metadata": {},
   "outputs": [],
   "source": []
  },
  {
   "cell_type": "code",
   "execution_count": 10,
   "metadata": {},
   "outputs": [],
   "source": [
    "# #################################################################\n",
    "# Flipping horizontally\n",
    "import cv2\n",
    "\n",
    "\n",
    "my_images = os.listdir(image_directory)\n",
    "for i, image_name in enumerate(my_images):\n",
    "        image= cv2.imread(image_directory + image_name)\n",
    "        flippedimage= cv2.flip(image, 1)\n",
    "        cv2.imwrite('C:\\\\Users\\\\User\\\\Desktop\\\\Sign_language\\\\PolishAlphabet_SignLanguage_Detection\\\\after_augmentation\\\\'+image_name, flippedimage)"
   ]
  },
  {
   "cell_type": "code",
   "execution_count": 27,
   "metadata": {},
   "outputs": [],
   "source": [
    "from PIL import Image\n",
    "\n",
    "def make_square(im, min_size=480, fill_color=(0, 255, 0, 0)):\n",
    "    x, y = im.size\n",
    "    size = max(min_size, x, y)\n",
    "    new_im = Image.new('RGBA', (size, size), fill_color)\n",
    "    new_im.paste(im, (int((size - x) / 2), int((size - y) / 2)))\n",
    "    return new_im"
   ]
  },
  {
   "cell_type": "code",
   "execution_count": 29,
   "metadata": {},
   "outputs": [],
   "source": [
    "# getting every pic to the same width and height\n",
    "my_images = os.listdir(image_directory)\n",
    "for i, image_name in enumerate(my_images):\n",
    "        img = Image.open(image_directory + image_name)\n",
    "        new_image = make_square(img)\n",
    "        new_image.save('C:\\\\Users\\\\User\\\\Desktop\\\\Sign_language\\\\PolishAlphabet_SignLanguage_Detection\\\\after_augmentation\\\\'+image_name)"
   ]
  },
  {
   "cell_type": "code",
   "execution_count": 16,
   "metadata": {},
   "outputs": [
    {
     "name": "stdout",
     "output_type": "stream",
     "text": [
      "Found 12 images belonging to 1 classes.\n"
     ]
    }
   ],
   "source": [
    "# #####################################################################\n",
    "# #Multiclass. Read dirctly from the folder structure using flow_from_directory\n",
    "# # We do not use it since it does do mirror images\n",
    "\n",
    "i = 0\n",
    "for batch in datagen.flow_from_directory(directory='aug/',\n",
    "                                         target_size=(256, 256),\n",
    "                                         color_mode=\"rgb\",\n",
    "                                         save_to_dir='after_augmentation/', \n",
    "                                         save_prefix='aug', \n",
    "                                         save_format='png'):\n",
    "    i += 1\n",
    "    if i > 4:\n",
    "        break "
   ]
  }
 ],
 "metadata": {
  "kernelspec": {
   "display_name": "Python 3",
   "language": "python",
   "name": "python3"
  },
  "language_info": {
   "codemirror_mode": {
    "name": "ipython",
    "version": 3
   },
   "file_extension": ".py",
   "mimetype": "text/x-python",
   "name": "python",
   "nbconvert_exporter": "python",
   "pygments_lexer": "ipython3",
   "version": "3.9.0 (tags/v3.9.0:9cf6752, Oct  5 2020, 15:34:40) [MSC v.1927 64 bit (AMD64)]"
  },
  "orig_nbformat": 4,
  "vscode": {
   "interpreter": {
    "hash": "cf92aa13fedf815d5c8dd192b8d835913fde3e8bc926b2a0ad6cc74ef2ba3ca2"
   }
  }
 },
 "nbformat": 4,
 "nbformat_minor": 2
}
