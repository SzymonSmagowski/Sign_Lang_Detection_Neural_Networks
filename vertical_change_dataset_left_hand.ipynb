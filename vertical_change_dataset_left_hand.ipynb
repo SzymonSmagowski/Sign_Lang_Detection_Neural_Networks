{
 "cells": [
  {
   "cell_type": "code",
   "execution_count": 1,
   "metadata": {},
   "outputs": [],
   "source": [
    "import os\n",
    "import cv2\n",
    "directory = 'C:\\\\Users\\\\User\\\\Desktop\\\\moving_frames'\n",
    "target = 'C:\\\\Users\\\\User\\\\Desktop\\\\moving_frames_left'\n",
    "# iterate over files in\n",
    "# that directory\n",
    "# for filename in os.listdir(directory):\n",
    "#     # checking if it is a file\n",
    "#     tmp = os.path.join(directory, filename)\n",
    "#     if os.path.isfile(tmp):\n",
    "#         image= cv2.imread(tmp)\n",
    "#         flippedimage= cv2.flip(image, 1)\n",
    "#         path1 = os.path.join(target, filename)\n",
    "#         cv2.imwrite(path1, flippedimage)\n",
    "for letter in os.listdir(directory):\n",
    "    let = os.path.join(directory, letter)\n",
    "    t1 = os.path.join(target, letter)\n",
    "    os.mkdir(t1)\n",
    "    for number in os.listdir(let):\n",
    "        num = os.path.join(let, number)\n",
    "        t2 = os.path.join(t1, number)\n",
    "        os.mkdir(t2)\n",
    "        for filename in os.listdir(num):\n",
    "            # checking if it is a file\n",
    "            tmp = os.path.join(num, filename)\n",
    "            if os.path.isfile(tmp):\n",
    "                image= cv2.imread(tmp)\n",
    "                flippedimage= cv2.flip(image, 1)\n",
    "                cv2.imwrite(os.path.join(t2, filename), flippedimage)"
   ]
  }
 ],
 "metadata": {
  "kernelspec": {
   "display_name": "Python 3",
   "language": "python",
   "name": "python3"
  },
  "language_info": {
   "codemirror_mode": {
    "name": "ipython",
    "version": 3
   },
   "file_extension": ".py",
   "mimetype": "text/x-python",
   "name": "python",
   "nbconvert_exporter": "python",
   "pygments_lexer": "ipython3",
   "version": "3.9.0"
  },
  "orig_nbformat": 4,
  "vscode": {
   "interpreter": {
    "hash": "cf92aa13fedf815d5c8dd192b8d835913fde3e8bc926b2a0ad6cc74ef2ba3ca2"
   }
  }
 },
 "nbformat": 4,
 "nbformat_minor": 2
}
