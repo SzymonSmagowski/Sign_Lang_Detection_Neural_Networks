{
 "cells": [
  {
   "cell_type": "code",
   "execution_count": 6,
   "metadata": {},
   "outputs": [],
   "source": [
    "import os\n",
    "import cv2\n",
    "directory = 'key_letters_aug'\n",
    "target = 'key_letters_aug_left'\n",
    "# iterate over files in\n",
    "# that directory\n",
    "for dirname in os.listdir(directory):\n",
    "    f = os.path.join(directory, dirname)\n",
    "    for filename in os.listdir(f):\n",
    "        # checking if it is a file\n",
    "        tmp = os.path.join(f, filename)\n",
    "        if os.path.isfile(tmp):\n",
    "            image= cv2.imread(tmp)\n",
    "            flippedimage= cv2.flip(image, 1)\n",
    "            path1 = os.path.join(target, dirname)\n",
    "            path2 = os.path.join(path1, filename)\n",
    "            cv2.imwrite(path2, flippedimage)"
   ]
  }
 ],
 "metadata": {
  "kernelspec": {
   "display_name": "Python 3",
   "language": "python",
   "name": "python3"
  },
  "language_info": {
   "codemirror_mode": {
    "name": "ipython",
    "version": 3
   },
   "file_extension": ".py",
   "mimetype": "text/x-python",
   "name": "python",
   "nbconvert_exporter": "python",
   "pygments_lexer": "ipython3",
   "version": "3.9.0"
  },
  "orig_nbformat": 4,
  "vscode": {
   "interpreter": {
    "hash": "cf92aa13fedf815d5c8dd192b8d835913fde3e8bc926b2a0ad6cc74ef2ba3ca2"
   }
  }
 },
 "nbformat": 4,
 "nbformat_minor": 2
}
