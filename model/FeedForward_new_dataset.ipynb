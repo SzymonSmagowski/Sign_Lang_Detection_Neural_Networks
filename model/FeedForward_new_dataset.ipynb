{
 "cells": [
  {
   "cell_type": "code",
   "execution_count": 1,
   "metadata": {},
   "outputs": [],
   "source": [
    "import csv\n",
    "\n",
    "import numpy as np\n",
    "import tensorflow as tf\n",
    "from sklearn import model_selection\n",
    "import os"
   ]
  },
  {
   "cell_type": "code",
   "execution_count": 8,
   "metadata": {},
   "outputs": [],
   "source": [
    "RANDOM_SEED = 42\n",
    "NUM_CLASSES = 30\n",
    "dataset = 'keypoint_classifier/keypoint.csv'\n",
    "model_save_path = 'keypoint_classifier/New_Dataset_FeedForward_model.hdf5'"
   ]
  },
  {
   "cell_type": "code",
   "execution_count": 3,
   "metadata": {},
   "outputs": [],
   "source": [
    "X_dataset = np.loadtxt(dataset, delimiter=',', dtype='float32', usecols=list(range(1, (21 * 2) + 1)))\n",
    "y_dataset = np.loadtxt(dataset, delimiter=',', dtype='int32', usecols=(0))\n",
    "X_train, X_test, y_train, y_test = model_selection.train_test_split(X_dataset, y_dataset, train_size=0.75, random_state=RANDOM_SEED)"
   ]
  },
  {
   "cell_type": "code",
   "execution_count": 4,
   "metadata": {},
   "outputs": [],
   "source": [
    "from keras.models import Sequential\n",
    "from keras.layers import LSTM,Dropout,Dense\n",
    "from keras.layers import GRU"
   ]
  },
  {
   "cell_type": "code",
   "execution_count": 5,
   "metadata": {},
   "outputs": [
    {
     "name": "stdout",
     "output_type": "stream",
     "text": [
      "Model: \"sequential\"\n",
      "_________________________________________________________________\n",
      " Layer (type)                Output Shape              Param #   \n",
      "=================================================================\n",
      " dense (Dense)               (None, 256)               11008     \n",
      "                                                                 \n",
      " dense_1 (Dense)             (None, 128)               32896     \n",
      "                                                                 \n",
      " dense_2 (Dense)             (None, 30)                3870      \n",
      "                                                                 \n",
      "=================================================================\n",
      "Total params: 47,774\n",
      "Trainable params: 47,774\n",
      "Non-trainable params: 0\n",
      "_________________________________________________________________\n"
     ]
    }
   ],
   "source": [
    "model = Sequential()\n",
    "model.add(Dense(256, input_shape=(42,), activation=\"relu\"))\n",
    "model.add(Dense(128, activation=\"relu\"))\n",
    "model.add(Dense(NUM_CLASSES, activation=\"softmax\"))\n",
    "\n",
    "model.summary()  # tf.keras.utils.plot_model(model, show_shapes=True)\n",
    "\n",
    "# model checkpoint callback\n",
    "cp_callback = tf.keras.callbacks.ModelCheckpoint(\n",
    "    model_save_path, verbose=1, save_weights_only=False)\n",
    "# callback for early abort\n",
    "es_callback = tf.keras.callbacks.EarlyStopping(patience=20, verbose=1)\n",
    "\n",
    " # model compilation\n",
    "model.compile(\n",
    "    optimizer='adam',\n",
    "    loss='sparse_categorical_crossentropy',\n",
    "    metrics=['accuracy']\n",
    ")"
   ]
  },
  {
   "cell_type": "code",
   "execution_count": 9,
   "metadata": {},
   "outputs": [
    {
     "name": "stdout",
     "output_type": "stream",
     "text": [
      "Epoch 1/500\n",
      "1/3 [=========>....................] - ETA: 0s - loss: 1.2987 - accuracy: 0.6094\n",
      "Epoch 1: saving model to keypoint_classifier\\New_Dataset_GRU_model.hdf5\n",
      "3/3 [==============================] - 0s 35ms/step - loss: 1.3671 - accuracy: 0.5965 - val_loss: 3.2034 - val_accuracy: 0.2696\n",
      "Epoch 2/500\n",
      "1/3 [=========>....................] - ETA: 0s - loss: 1.3947 - accuracy: 0.5859\n",
      "Epoch 2: saving model to keypoint_classifier\\New_Dataset_GRU_model.hdf5\n",
      "3/3 [==============================] - 0s 26ms/step - loss: 1.3627 - accuracy: 0.6111 - val_loss: 3.2391 - val_accuracy: 0.2696\n",
      "Epoch 3/500\n",
      "1/3 [=========>....................] - ETA: 0s - loss: 1.3196 - accuracy: 0.6094\n",
      "Epoch 3: saving model to keypoint_classifier\\New_Dataset_GRU_model.hdf5\n",
      "3/3 [==============================] - 0s 24ms/step - loss: 1.3577 - accuracy: 0.6082 - val_loss: 3.2579 - val_accuracy: 0.2696\n",
      "Epoch 4/500\n",
      "1/3 [=========>....................] - ETA: 0s - loss: 1.5259 - accuracy: 0.5703\n",
      "Epoch 4: saving model to keypoint_classifier\\New_Dataset_GRU_model.hdf5\n",
      "3/3 [==============================] - 0s 19ms/step - loss: 1.3492 - accuracy: 0.6199 - val_loss: 3.2390 - val_accuracy: 0.2522\n",
      "Epoch 5/500\n",
      "1/3 [=========>....................] - ETA: 0s - loss: 1.2715 - accuracy: 0.6172\n",
      "Epoch 5: saving model to keypoint_classifier\\New_Dataset_GRU_model.hdf5\n",
      "3/3 [==============================] - 0s 19ms/step - loss: 1.3480 - accuracy: 0.6082 - val_loss: 3.2334 - val_accuracy: 0.2522\n",
      "Epoch 6/500\n",
      "1/3 [=========>....................] - ETA: 0s - loss: 1.2696 - accuracy: 0.6484\n",
      "Epoch 6: saving model to keypoint_classifier\\New_Dataset_GRU_model.hdf5\n",
      "3/3 [==============================] - 0s 24ms/step - loss: 1.3402 - accuracy: 0.6170 - val_loss: 3.2488 - val_accuracy: 0.2783\n",
      "Epoch 7/500\n",
      "1/3 [=========>....................] - ETA: 0s - loss: 1.2272 - accuracy: 0.6484\n",
      "Epoch 7: saving model to keypoint_classifier\\New_Dataset_GRU_model.hdf5\n",
      "3/3 [==============================] - 0s 28ms/step - loss: 1.3332 - accuracy: 0.6140 - val_loss: 3.2903 - val_accuracy: 0.2696\n",
      "Epoch 8/500\n",
      "1/3 [=========>....................] - ETA: 0s - loss: 1.3896 - accuracy: 0.5938\n",
      "Epoch 8: saving model to keypoint_classifier\\New_Dataset_GRU_model.hdf5\n",
      "3/3 [==============================] - 0s 23ms/step - loss: 1.3292 - accuracy: 0.6082 - val_loss: 3.3120 - val_accuracy: 0.2696\n",
      "Epoch 9/500\n",
      "1/3 [=========>....................] - ETA: 0s - loss: 1.3613 - accuracy: 0.5859\n",
      "Epoch 9: saving model to keypoint_classifier\\New_Dataset_GRU_model.hdf5\n",
      "3/3 [==============================] - 0s 20ms/step - loss: 1.3242 - accuracy: 0.6082 - val_loss: 3.3240 - val_accuracy: 0.2609\n",
      "Epoch 10/500\n",
      "1/3 [=========>....................] - ETA: 0s - loss: 1.2441 - accuracy: 0.6562\n",
      "Epoch 10: saving model to keypoint_classifier\\New_Dataset_GRU_model.hdf5\n",
      "3/3 [==============================] - 0s 21ms/step - loss: 1.3172 - accuracy: 0.6111 - val_loss: 3.3308 - val_accuracy: 0.2783\n",
      "Epoch 11/500\n",
      "1/3 [=========>....................] - ETA: 0s - loss: 1.2971 - accuracy: 0.6094\n",
      "Epoch 11: saving model to keypoint_classifier\\New_Dataset_GRU_model.hdf5\n",
      "3/3 [==============================] - 0s 22ms/step - loss: 1.3124 - accuracy: 0.6199 - val_loss: 3.3282 - val_accuracy: 0.2696\n",
      "Epoch 12/500\n",
      "1/3 [=========>....................] - ETA: 0s - loss: 1.3213 - accuracy: 0.5859\n",
      "Epoch 12: saving model to keypoint_classifier\\New_Dataset_GRU_model.hdf5\n",
      "3/3 [==============================] - 0s 22ms/step - loss: 1.3081 - accuracy: 0.6199 - val_loss: 3.3179 - val_accuracy: 0.2696\n",
      "Epoch 13/500\n",
      "1/3 [=========>....................] - ETA: 0s - loss: 1.3668 - accuracy: 0.5859\n",
      "Epoch 13: saving model to keypoint_classifier\\New_Dataset_GRU_model.hdf5\n",
      "3/3 [==============================] - 0s 22ms/step - loss: 1.3049 - accuracy: 0.6170 - val_loss: 3.3091 - val_accuracy: 0.2609\n",
      "Epoch 14/500\n",
      "1/3 [=========>....................] - ETA: 0s - loss: 1.2380 - accuracy: 0.6328\n",
      "Epoch 14: saving model to keypoint_classifier\\New_Dataset_GRU_model.hdf5\n",
      "3/3 [==============================] - 0s 24ms/step - loss: 1.3001 - accuracy: 0.6140 - val_loss: 3.3466 - val_accuracy: 0.2609\n",
      "Epoch 15/500\n",
      "1/3 [=========>....................] - ETA: 0s - loss: 1.4825 - accuracy: 0.5703\n",
      "Epoch 15: saving model to keypoint_classifier\\New_Dataset_GRU_model.hdf5\n",
      "3/3 [==============================] - 0s 22ms/step - loss: 1.2937 - accuracy: 0.6199 - val_loss: 3.3515 - val_accuracy: 0.2783\n",
      "Epoch 16/500\n",
      "1/3 [=========>....................] - ETA: 0s - loss: 1.2982 - accuracy: 0.6641\n",
      "Epoch 16: saving model to keypoint_classifier\\New_Dataset_GRU_model.hdf5\n",
      "3/3 [==============================] - 0s 20ms/step - loss: 1.2894 - accuracy: 0.6199 - val_loss: 3.3588 - val_accuracy: 0.2696\n",
      "Epoch 17/500\n",
      "1/3 [=========>....................] - ETA: 0s - loss: 1.3793 - accuracy: 0.5938\n",
      "Epoch 17: saving model to keypoint_classifier\\New_Dataset_GRU_model.hdf5\n",
      "3/3 [==============================] - 0s 22ms/step - loss: 1.2839 - accuracy: 0.6199 - val_loss: 3.3729 - val_accuracy: 0.2696\n",
      "Epoch 18/500\n",
      "1/3 [=========>....................] - ETA: 0s - loss: 1.3030 - accuracy: 0.6250\n",
      "Epoch 18: saving model to keypoint_classifier\\New_Dataset_GRU_model.hdf5\n",
      "3/3 [==============================] - 0s 22ms/step - loss: 1.2802 - accuracy: 0.6316 - val_loss: 3.3896 - val_accuracy: 0.2609\n",
      "Epoch 19/500\n",
      "1/3 [=========>....................] - ETA: 0s - loss: 1.5358 - accuracy: 0.5234\n",
      "Epoch 19: saving model to keypoint_classifier\\New_Dataset_GRU_model.hdf5\n",
      "3/3 [==============================] - 0s 21ms/step - loss: 1.2766 - accuracy: 0.6345 - val_loss: 3.3898 - val_accuracy: 0.2522\n",
      "Epoch 20/500\n",
      "1/3 [=========>....................] - ETA: 0s - loss: 1.1873 - accuracy: 0.6719\n",
      "Epoch 20: saving model to keypoint_classifier\\New_Dataset_GRU_model.hdf5\n",
      "3/3 [==============================] - 0s 21ms/step - loss: 1.2727 - accuracy: 0.6345 - val_loss: 3.4115 - val_accuracy: 0.2435\n",
      "Epoch 21/500\n",
      "1/3 [=========>....................] - ETA: 0s - loss: 1.2618 - accuracy: 0.6406\n",
      "Epoch 21: saving model to keypoint_classifier\\New_Dataset_GRU_model.hdf5\n",
      "3/3 [==============================] - 0s 23ms/step - loss: 1.2665 - accuracy: 0.6257 - val_loss: 3.4496 - val_accuracy: 0.2696\n",
      "Epoch 21: early stopping\n"
     ]
    },
    {
     "data": {
      "text/plain": [
       "<keras.callbacks.History at 0x28dabf3d070>"
      ]
     },
     "execution_count": 9,
     "metadata": {},
     "output_type": "execute_result"
    }
   ],
   "source": [
    "model.fit(\n",
    "    X_train,\n",
    "    y_train,\n",
    "    epochs=500,\n",
    "    batch_size=128,\n",
    "    validation_data=(X_test, y_test),\n",
    "    callbacks=[cp_callback, es_callback]\n",
    ")"
   ]
  }
 ],
 "metadata": {
  "kernelspec": {
   "display_name": "Python 3.9.0 64-bit",
   "language": "python",
   "name": "python3"
  },
  "language_info": {
   "codemirror_mode": {
    "name": "ipython",
    "version": 3
   },
   "file_extension": ".py",
   "mimetype": "text/x-python",
   "name": "python",
   "nbconvert_exporter": "python",
   "pygments_lexer": "ipython3",
   "version": "3.9.0"
  },
  "orig_nbformat": 4,
  "vscode": {
   "interpreter": {
    "hash": "cf92aa13fedf815d5c8dd192b8d835913fde3e8bc926b2a0ad6cc74ef2ba3ca2"
   }
  }
 },
 "nbformat": 4,
 "nbformat_minor": 2
}
